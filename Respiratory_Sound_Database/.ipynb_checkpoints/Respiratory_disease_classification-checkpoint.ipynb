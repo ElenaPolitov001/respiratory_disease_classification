{
 "cells": [
  {
   "cell_type": "code",
   "execution_count": 1,
   "metadata": {},
   "outputs": [],
   "source": [
    "import numpy as np\n",
    "import pandas as pd\n",
    "import librosa\n",
    "import librosa.display\n",
    "import glob as gb\n",
    "import matplotlib.pyplot as plt\n",
    "import gc"
   ]
  },
  {
   "cell_type": "code",
   "execution_count": null,
   "metadata": {},
   "outputs": [],
   "source": [
    "sound_dir_loc=np.array(gb.glob(\"audio_and_txt_files/*.wav\"))"
   ]
  },
  {
   "cell_type": "code",
   "execution_count": null,
   "metadata": {},
   "outputs": [],
   "source": [
    "\n",
    "def build_spectogram(file_path,sound_file_name):\n",
    "    plt.interactive(False)\n",
    "    file_audio_series,sr = librosa.load(file_path,sr=None)    \n",
    "    spec_image = plt.figure(figsize=[0.72,0.72])\n",
    "    ax = spec_image.add_subplot(111)\n",
    "    ax.axes.get_xaxis().set_visible(False)\n",
    "    ax.axes.get_yaxis().set_visible(False)\n",
    "    ax.set_frame_on(False)\n",
    "    spectogram = librosa.feature.melspectrogram(y=file_audio_series, sr=sr)\n",
    "    librosa.display.specshow(librosa.power_to_db(spectogram, ref=np.max))\n",
    "    image_name  = 'spec_images/' + sound_file_name + '.jpg'\n",
    "    plt.savefig(image_name, dpi=400, bbox_inches='tight',pad_inches=0)\n",
    "    plt.close()    \n",
    "    spec_image.clf()\n",
    "    plt.close(spec_image)\n",
    "    plt.close('all')\n",
    "    del file_path,sound_file_name,file_audio_series,sr,spec_image,ax,spectogram"
   ]
  },
  {
   "cell_type": "code",
   "execution_count": null,
   "metadata": {},
   "outputs": [],
   "source": [
    "index=0\n",
    "for file in sound_dir_loc[index:]:\n",
    "    sfile_name = file.split('\\\\')[1].split('.')[0]\n",
    "    build_spectogram(file,sfile_name)\n",
    "    print('Index:',index)\n",
    "    \n",
    "gc.collect()\n",
    "\n",
    "# =============================================================================\n",
    "# Perform the conversion of sound clips to images in batches for faster memory handling\n",
    "#\n",
    "# index=0\n",
    "# for file in sound_dir_loc[index:index+50]:\n",
    "#     sfile_name = sound_dir_loc[index].split('\\\\')[1].split('.')[0]\n",
    "#     build_spectogram(sound_dir_loc[index],sfile_name)\n",
    "#     \n",
    "# index=0\n",
    "# for file in sound_dir_loc[index:index+50]:\n",
    "#     sfile_name = sound_dir_loc[index].split('\\\\')[1].split('.')[0]\n",
    "#     build_spectogram(sound_dir_loc[index],sfile_name)\n",
    "#     \n",
    "# index=0\n",
    "# for file in sound_dir_loc[index:index+50]:\n",
    "#     sfile_name = sound_dir_loc[index].split('\\\\')[1].split('.')[0]\n",
    "#     build_spectogram(sound_dir_loc[index],sfile_name)\n",
    "# ============================================================================="
   ]
  },
  {
   "cell_type": "code",
   "execution_count": null,
   "metadata": {},
   "outputs": [],
   "source": [
    "patient_data=pd.read_csv('patient_diagnosis.csv',dtype=str)\n",
    "spectograms_dir_loc=np.array(gb.glob(\"spec_images-Copy/*.jpg\"))\n",
    "patient_data_all = patient_data[0:0]"
   ]
  },
  {
   "cell_type": "code",
   "execution_count": null,
   "metadata": {},
   "outputs": [],
   "source": [
    "index = 0\n",
    "for image in spectograms_dir_loc[index:]:\n",
    "    image_name = image.split('\\\\')[1]\n",
    "    patient_id = image_name.split('_')[0]\n",
    "    patient_condition = patient_data.loc[(patient_data['ID'] == patient_id)].iloc[0]['CLASS']\n",
    "    # print(image_name,patient_id,patient_condition,sep=' ',end='\\n')\n",
    "    patient_data_all.loc[len(patient_data_all)] = [image_name, patient_condition]\n",
    "    \n",
    "del image_name,patient_id,patient_condition,index,image"
   ]
  },
  {
   "cell_type": "code",
   "execution_count": null,
   "metadata": {},
   "outputs": [],
   "source": [
    "from sklearn.model_selection import train_test_split\n",
    "trainset_df, testset_df = train_test_split(patient_data_all, test_size=0.2)"
   ]
  },
  {
   "cell_type": "code",
   "execution_count": null,
   "metadata": {},
   "outputs": [],
   "source": [
    "from keras_preprocessing.image import ImageDataGenerator\n",
    "train_datagen = ImageDataGenerator(rescale = 1./255,validation_split=0.25)\n",
    "test_datagen = ImageDataGenerator(rescale = 1./255)"
   ]
  },
  {
   "cell_type": "code",
   "execution_count": null,
   "metadata": {},
   "outputs": [],
   "source": [
    "training_set = train_datagen.flow_from_dataframe(\n",
    "    dataframe=trainset_df,\n",
    "    directory=\"spec_images/\",\n",
    "    x_col=\"ID\",\n",
    "    y_col=\"CLASS\",\n",
    "    subset=\"training\",\n",
    "    batch_size=32,\n",
    "    seed=42,\n",
    "    shuffle=True,\n",
    "    class_mode=\"categorical\",\n",
    "    target_size=(64,64))\n",
    "\n",
    "validation_set = train_datagen.flow_from_dataframe(\n",
    "    dataframe=trainset_df,\n",
    "    directory=\"spec_images/\",\n",
    "    x_col=\"ID\",\n",
    "    y_col=\"CLASS\",\n",
    "    subset=\"validation\",\n",
    "    batch_size=32,\n",
    "    seed=42,\n",
    "    shuffle=True,\n",
    "    class_mode=\"categorical\",\n",
    "    target_size=(64,64))\n",
    "\n",
    "test_set = test_datagen.flow_from_dataframe(\n",
    "    dataframe=testset_df,\n",
    "    directory=\"spec_images/\",\n",
    "    x_col=\"ID\",\n",
    "    y_col=None,\n",
    "    batch_size=32,\n",
    "    seed=42,\n",
    "    shuffle=False,\n",
    "    class_mode=None,\n",
    "    target_size=(64,64))"
   ]
  },
  {
   "cell_type": "code",
   "execution_count": null,
   "metadata": {},
   "outputs": [],
   "source": [
    "from keras.models import Sequential\n",
    "from keras.layers import Convolution2D, Conv2D\n",
    "from keras.layers import MaxPooling2D\n",
    "from keras.layers import Flatten\n",
    "from keras.layers import Dense\n",
    "from keras.layers import Dropout,BatchNormalization"
   ]
  },
  {
   "cell_type": "code",
   "execution_count": null,
   "metadata": {},
   "outputs": [],
   "source": [
    "classifier = Sequential()\n",
    "classifier.add(Conv2D(32, kernel_size = (3, 3), input_shape = (64, 64, 3), activation = 'relu'))\n",
    "classifier.add(MaxPooling2D(pool_size = (2, 2)))\n",
    "classifier.add(Conv2D(64, kernel_size = (3, 3), activation = 'relu'))\n",
    "classifier.add(MaxPooling2D(pool_size = (2, 2)))\n",
    "classifier.add(Conv2D(64, kernel_size = (3, 3), activation = 'relu'))\n",
    "classifier.add(MaxPooling2D(pool_size = (2, 2)))\n",
    "classifier.add(Conv2D(32, kernel_size = (3, 3), activation = 'relu'))\n",
    "classifier.add(MaxPooling2D(pool_size = (2, 2)))\n",
    "classifier.add(Dropout(0.2))\n",
    "classifier.add(Flatten())\n",
    "\n",
    "classifier.add(Dense(output_dim = 128, activation = 'relu'))\n",
    "classifier.add(Dense(output_dim = 7, activation = 'softmax'))\n",
    "\n",
    "classifier.compile(optimizer='adam',loss=\"categorical_crossentropy\",metrics=[\"accuracy\"])"
   ]
  },
  {
   "cell_type": "code",
   "execution_count": null,
   "metadata": {},
   "outputs": [],
   "source": [
    "step_train_size=training_set.n//training_set.batch_size\n",
    "step_valid_size=validation_set.n//validation_set.batch_size\n",
    "\n",
    "classifier.fit_generator(generator=training_set,\n",
    "                    steps_per_epoch=step_train_size,\n",
    "                    validation_data=validation_set,\n",
    "                    validation_steps=step_valid_size,\n",
    "                    epochs=50)"
   ]
  },
  {
   "cell_type": "code",
   "execution_count": null,
   "metadata": {},
   "outputs": [],
   "source": [
    "classifier.evaluate_generator(generator=validation_set, steps=step_valid_size)"
   ]
  },
  {
   "cell_type": "code",
   "execution_count": null,
   "metadata": {},
   "outputs": [],
   "source": [
    "step_test_size = test_set.n//test_set.batch_size\n",
    "predicted_conditions = classifier.predict_generator(test_set,steps=step_test_size, verbose=1)\n",
    "\n",
    "predicted_class_indices=np.argmax(predicted_conditions,axis=1)"
   ]
  },
  {
   "cell_type": "code",
   "execution_count": null,
   "metadata": {},
   "outputs": [],
   "source": [
    "labels = (training_set.class_indices)\n",
    "labels = dict((v,k) for k,v in labels.items())\n",
    "predictions = [labels[k] for k in predicted_class_indices]\n",
    "print(predictions[0:10])\n",
    "print(testset_df.head(10))"
   ]
  }
 ],
 "metadata": {
  "kernelspec": {
   "display_name": "Python 3",
   "language": "python",
   "name": "python3"
  },
  "language_info": {
   "codemirror_mode": {
    "name": "ipython",
    "version": 3
   },
   "file_extension": ".py",
   "mimetype": "text/x-python",
   "name": "python",
   "nbconvert_exporter": "python",
   "pygments_lexer": "ipython3",
   "version": "3.7.1"
  }
 },
 "nbformat": 4,
 "nbformat_minor": 2
}
